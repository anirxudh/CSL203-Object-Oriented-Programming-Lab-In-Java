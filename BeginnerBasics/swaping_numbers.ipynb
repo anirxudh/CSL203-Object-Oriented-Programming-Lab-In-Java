{
  "nbformat": 4,
  "nbformat_minor": 0,
  "metadata": {
    "colab": {
      "provenance": [],
      "authorship_tag": "ABX9TyOza6dD7TZOM/hZ0dRC3MV9",
      "include_colab_link": true
    },
    "kernelspec": {
      "name": "python3",
      "display_name": "Python 3"
    },
    "language_info": {
      "name": "python"
    }
  },
  "cells": [
    {
      "cell_type": "markdown",
      "metadata": {
        "id": "view-in-github",
        "colab_type": "text"
      },
      "source": [
        "<a href=\"https://colab.research.google.com/github/anirxudh/CSL203-Object-Oriented-Programming-Lab-In-Java/blob/main/BeginnerBasics/swaping_numbers.ipynb\" target=\"_parent\"><img src=\"https://colab.research.google.com/assets/colab-badge.svg\" alt=\"Open In Colab\"/></a>"
      ]
    },
    {
      "cell_type": "code",
      "execution_count": null,
      "metadata": {
        "colab": {
          "base_uri": "https://localhost:8080/"
        },
        "id": "QfwiMxJcRjxW",
        "outputId": "d04767ff-6b14-4df2-83a8-1e7583324de5"
      },
      "outputs": [
        {
          "output_type": "stream",
          "name": "stdout",
          "text": [
            "ENTER THE FIRST NUMBER43\n",
            "ENTER THE SECOND NUMBER67\n",
            "The value of a after swapping: 67\n",
            "The value of b after swapping: 43\n"
          ]
        }
      ],
      "source": [
        "#SWAPPING TWO NUMBERS\n",
        "a=int(input(\"ENTER THE FIRST NUMBER: \"))\n",
        "b=int(input(\"ENTER THE SECOND NUMBER: \"))\n",
        "\n",
        "# create a temporary variable to store the number and then swap it\n",
        "\n",
        "temp=a\n",
        "a=b\n",
        "b=temp\n",
        "\n",
        "print('The value of a after swapping: {}'.format(a))\n",
        "print('The value of b after swapping: {}'.format(b))"
      ]
    }
  ]
}